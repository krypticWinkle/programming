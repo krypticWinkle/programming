{
 "metadata": {
  "language_info": {
   "codemirror_mode": {
    "name": "ipython",
    "version": 3
   },
   "file_extension": ".py",
   "mimetype": "text/x-python",
   "name": "python",
   "nbconvert_exporter": "python",
   "pygments_lexer": "ipython3",
   "version": "3.9.4"
  },
  "orig_nbformat": 4,
  "kernelspec": {
   "name": "python3",
   "display_name": "Python 3.9.4 64-bit"
  },
  "interpreter": {
   "hash": "b8e45dd11bd230feb8138936fba0ab46bd9db878179e44f167c068ba88f8a0cc"
  }
 },
 "nbformat": 4,
 "nbformat_minor": 2,
 "cells": [
  {
   "cell_type": "code",
   "execution_count": 12,
   "metadata": {},
   "outputs": [
    {
     "output_type": "stream",
     "name": "stdout",
     "text": [
      "   Unnamed: 0  index      company   body-style  wheel-base  length  \\\n0           0      0  alfa-romero  convertible        88.6   168.8   \n1           1      1  alfa-romero  convertible        88.6   168.8   \n2           2      2  alfa-romero    hatchback        94.5   171.2   \n3           3      3         audi        sedan        99.8   176.6   \n4           4      4         audi        sedan        99.4   176.6   \n\n  engine-type num-of-cylinders  horsepower  average-mileage    price  \n0        dohc             four         111               21  13495.0  \n1        dohc             four         111               21  16500.0  \n2        ohcv              six         154               19  16500.0  \n3         ohc             four         102               24  13950.0  \n4         ohc             five         115               18  17450.0  \n    Unnamed: 0  index     company body-style  wheel-base  length engine-type  \\\n56          56     81  volkswagen      sedan        97.3   171.7         ohc   \n57          57     82  volkswagen      sedan        97.3   171.7         ohc   \n58          58     86  volkswagen      sedan        97.3   171.7         ohc   \n59          59     87       volvo      sedan       104.3   188.8         ohc   \n60          60     88       volvo      wagon       104.3   188.8         ohc   \n\n   num-of-cylinders  horsepower  average-mileage    price  \n56             four          85               27   7975.0  \n57             four          52               37   7995.0  \n58             four         100               26   9995.0  \n59             four         114               23  12940.0  \n60             four         114               23  13415.0  \n"
     ]
    }
   ],
   "source": [
    "#1 AYUSH KUMAR 18104031 B12\n",
    "import pandas as pd\n",
    "import io\n",
    "\n",
    "df = pd.read_csv('Automobile_data.csv')\n",
    "\n",
    "print(df.head(5))\n",
    "print(df.tail(5))"
   ]
  },
  {
   "cell_type": "code",
   "execution_count": 18,
   "metadata": {},
   "outputs": [
    {
     "output_type": "stream",
     "name": "stdout",
     "text": [
      "    Unnamed: 0  index      company   body-style  wheel-base  length  \\\n0            0      0  alfa-romero  convertible        88.6   168.8   \n1            1      1  alfa-romero  convertible        88.6   168.8   \n2            2      2  alfa-romero    hatchback        94.5   171.2   \n3            3      3         audi        sedan        99.8   176.6   \n4            4      4         audi        sedan        99.4   176.6   \n..         ...    ...          ...          ...         ...     ...   \n56          56     81   volkswagen        sedan        97.3   171.7   \n57          57     82   volkswagen        sedan        97.3   171.7   \n58          58     86   volkswagen        sedan        97.3   171.7   \n59          59     87        volvo        sedan       104.3   188.8   \n60          60     88        volvo        wagon       104.3   188.8   \n\n   engine-type num-of-cylinders  horsepower  average-mileage    price  \n0         dohc             four         111               21  13495.0  \n1         dohc             four         111               21  16500.0  \n2         ohcv              six         154               19  16500.0  \n3          ohc             four         102               24  13950.0  \n4          ohc             five         115               18  17450.0  \n..         ...              ...         ...              ...      ...  \n56         ohc             four          85               27   7975.0  \n57         ohc             four          52               37   7995.0  \n58         ohc             four         100               26   9995.0  \n59         ohc             four         114               23  12940.0  \n60         ohc             four         114               23  13415.0  \n\n[61 rows x 11 columns]\n"
     ]
    }
   ],
   "source": [
    "#2\n",
    "\n",
    "import pandas as pd\n",
    "import io\n",
    "details = pd.read_csv(\"Automobile_data.csv\", na_values=\n",
    "{\n",
    "'price':[\"?\",\"n.a\"],\n",
    "'stroke':[\"?\",\"n.a\"],\n",
    "'horsepower':[\"?\",\"n.a\"],\n",
    "'peak-rpm':[\"?\",\"n.a\"],\n",
    "'average-mileage':[\"?\",\"n.a\"]\n",
    "})\n",
    "\n",
    "print(details)\n",
    "\n",
    "details.to_csv(\"Automobile_data.csv\")"
   ]
  },
  {
   "cell_type": "code",
   "execution_count": 11,
   "metadata": {},
   "outputs": [
    {
     "output_type": "execute_result",
     "data": {
      "text/plain": [
       "    Unnamed: 0  index company body-style  wheel-base  length engine-type  \\\n",
       "7            7      9     bmw      sedan       101.2   176.8         ohc   \n",
       "8            8     10     bmw      sedan       101.2   176.8         ohc   \n",
       "9            9     11     bmw      sedan       101.2   176.8         ohc   \n",
       "10          10     13     bmw      sedan       103.5   189.0         ohc   \n",
       "11          11     14     bmw      sedan       103.5   193.8         ohc   \n",
       "12          12     15     bmw      sedan       110.0   197.0         ohc   \n",
       "\n",
       "   num-of-cylinders  horsepower  average-mileage    price  \n",
       "7              four         101               23  16430.0  \n",
       "8              four         101               23  16925.0  \n",
       "9               six         121               21  20970.0  \n",
       "10              six         182               16  30760.0  \n",
       "11              six         182               16  41315.0  \n",
       "12              six         182               15  36880.0  "
      ],
      "text/html": "<div>\n<style scoped>\n    .dataframe tbody tr th:only-of-type {\n        vertical-align: middle;\n    }\n\n    .dataframe tbody tr th {\n        vertical-align: top;\n    }\n\n    .dataframe thead th {\n        text-align: right;\n    }\n</style>\n<table border=\"1\" class=\"dataframe\">\n  <thead>\n    <tr style=\"text-align: right;\">\n      <th></th>\n      <th>Unnamed: 0</th>\n      <th>index</th>\n      <th>company</th>\n      <th>body-style</th>\n      <th>wheel-base</th>\n      <th>length</th>\n      <th>engine-type</th>\n      <th>num-of-cylinders</th>\n      <th>horsepower</th>\n      <th>average-mileage</th>\n      <th>price</th>\n    </tr>\n  </thead>\n  <tbody>\n    <tr>\n      <th>7</th>\n      <td>7</td>\n      <td>9</td>\n      <td>bmw</td>\n      <td>sedan</td>\n      <td>101.2</td>\n      <td>176.8</td>\n      <td>ohc</td>\n      <td>four</td>\n      <td>101</td>\n      <td>23</td>\n      <td>16430.0</td>\n    </tr>\n    <tr>\n      <th>8</th>\n      <td>8</td>\n      <td>10</td>\n      <td>bmw</td>\n      <td>sedan</td>\n      <td>101.2</td>\n      <td>176.8</td>\n      <td>ohc</td>\n      <td>four</td>\n      <td>101</td>\n      <td>23</td>\n      <td>16925.0</td>\n    </tr>\n    <tr>\n      <th>9</th>\n      <td>9</td>\n      <td>11</td>\n      <td>bmw</td>\n      <td>sedan</td>\n      <td>101.2</td>\n      <td>176.8</td>\n      <td>ohc</td>\n      <td>six</td>\n      <td>121</td>\n      <td>21</td>\n      <td>20970.0</td>\n    </tr>\n    <tr>\n      <th>10</th>\n      <td>10</td>\n      <td>13</td>\n      <td>bmw</td>\n      <td>sedan</td>\n      <td>103.5</td>\n      <td>189.0</td>\n      <td>ohc</td>\n      <td>six</td>\n      <td>182</td>\n      <td>16</td>\n      <td>30760.0</td>\n    </tr>\n    <tr>\n      <th>11</th>\n      <td>11</td>\n      <td>14</td>\n      <td>bmw</td>\n      <td>sedan</td>\n      <td>103.5</td>\n      <td>193.8</td>\n      <td>ohc</td>\n      <td>six</td>\n      <td>182</td>\n      <td>16</td>\n      <td>41315.0</td>\n    </tr>\n    <tr>\n      <th>12</th>\n      <td>12</td>\n      <td>15</td>\n      <td>bmw</td>\n      <td>sedan</td>\n      <td>110.0</td>\n      <td>197.0</td>\n      <td>ohc</td>\n      <td>six</td>\n      <td>182</td>\n      <td>15</td>\n      <td>36880.0</td>\n    </tr>\n  </tbody>\n</table>\n</div>"
     },
     "metadata": {},
     "execution_count": 11
    }
   ],
   "source": [
    "#3\n",
    "import pandas as pd\n",
    "df = pd.read_csv('Automobile_data.csv')\n",
    "\n",
    "car_Manufacturers = df.groupby('company')\n",
    "bmwDf = car_Manufacturers.get_group('bmw')\n",
    "bmwDf"
   ]
  },
  {
   "cell_type": "code",
   "execution_count": 13,
   "metadata": {},
   "outputs": [
    {
     "output_type": "execute_result",
     "data": {
      "text/plain": [
       "toyota           7\n",
       "bmw              6\n",
       "mazda            5\n",
       "nissan           5\n",
       "mercedes-benz    4\n",
       "audi             4\n",
       "mitsubishi       4\n",
       "volkswagen       4\n",
       "jaguar           3\n",
       "honda            3\n",
       "isuzu            3\n",
       "alfa-romero      3\n",
       "porsche          3\n",
       "chevrolet        3\n",
       "volvo            2\n",
       "dodge            2\n",
       "Name: company, dtype: int64"
      ]
     },
     "metadata": {},
     "execution_count": 13
    }
   ],
   "source": [
    "#4\n",
    "import pandas as pd\n",
    "import io\n",
    "details = pd.read_csv('Automobile_data.csv')\n",
    "\n",
    "details['company'].value_counts()"
   ]
  },
  {
   "cell_type": "code",
   "execution_count": 17,
   "metadata": {},
   "outputs": [
    {
     "output_type": "stream",
     "name": "stderr",
     "text": [
      "<ipython-input-17-813ffee48f7d>:7: FutureWarning: Indexing with multiple keys (implicitly converted to a tuple of keys) will be deprecated, use a list instead.\n  priceDf = car_Manufacturers['company','price'].max()\n"
     ]
    },
    {
     "output_type": "execute_result",
     "data": {
      "text/plain": [
       "                     company    price\n",
       "company                              \n",
       "alfa-romero      alfa-romero  16500.0\n",
       "audi                    audi  18920.0\n",
       "bmw                      bmw  41315.0\n",
       "chevrolet          chevrolet   6575.0\n",
       "dodge                  dodge   6377.0\n",
       "honda                  honda  12945.0\n",
       "isuzu                  isuzu   6785.0\n",
       "jaguar                jaguar  36000.0\n",
       "mazda                  mazda  18344.0\n",
       "mercedes-benz  mercedes-benz  45400.0\n",
       "mitsubishi        mitsubishi   8189.0\n",
       "nissan                nissan  13499.0\n",
       "porsche              porsche  37028.0\n",
       "toyota                toyota  15750.0\n",
       "volkswagen        volkswagen   9995.0\n",
       "volvo                  volvo  13415.0"
      ],
      "text/html": "<div>\n<style scoped>\n    .dataframe tbody tr th:only-of-type {\n        vertical-align: middle;\n    }\n\n    .dataframe tbody tr th {\n        vertical-align: top;\n    }\n\n    .dataframe thead th {\n        text-align: right;\n    }\n</style>\n<table border=\"1\" class=\"dataframe\">\n  <thead>\n    <tr style=\"text-align: right;\">\n      <th></th>\n      <th>company</th>\n      <th>price</th>\n    </tr>\n    <tr>\n      <th>company</th>\n      <th></th>\n      <th></th>\n    </tr>\n  </thead>\n  <tbody>\n    <tr>\n      <th>alfa-romero</th>\n      <td>alfa-romero</td>\n      <td>16500.0</td>\n    </tr>\n    <tr>\n      <th>audi</th>\n      <td>audi</td>\n      <td>18920.0</td>\n    </tr>\n    <tr>\n      <th>bmw</th>\n      <td>bmw</td>\n      <td>41315.0</td>\n    </tr>\n    <tr>\n      <th>chevrolet</th>\n      <td>chevrolet</td>\n      <td>6575.0</td>\n    </tr>\n    <tr>\n      <th>dodge</th>\n      <td>dodge</td>\n      <td>6377.0</td>\n    </tr>\n    <tr>\n      <th>honda</th>\n      <td>honda</td>\n      <td>12945.0</td>\n    </tr>\n    <tr>\n      <th>isuzu</th>\n      <td>isuzu</td>\n      <td>6785.0</td>\n    </tr>\n    <tr>\n      <th>jaguar</th>\n      <td>jaguar</td>\n      <td>36000.0</td>\n    </tr>\n    <tr>\n      <th>mazda</th>\n      <td>mazda</td>\n      <td>18344.0</td>\n    </tr>\n    <tr>\n      <th>mercedes-benz</th>\n      <td>mercedes-benz</td>\n      <td>45400.0</td>\n    </tr>\n    <tr>\n      <th>mitsubishi</th>\n      <td>mitsubishi</td>\n      <td>8189.0</td>\n    </tr>\n    <tr>\n      <th>nissan</th>\n      <td>nissan</td>\n      <td>13499.0</td>\n    </tr>\n    <tr>\n      <th>porsche</th>\n      <td>porsche</td>\n      <td>37028.0</td>\n    </tr>\n    <tr>\n      <th>toyota</th>\n      <td>toyota</td>\n      <td>15750.0</td>\n    </tr>\n    <tr>\n      <th>volkswagen</th>\n      <td>volkswagen</td>\n      <td>9995.0</td>\n    </tr>\n    <tr>\n      <th>volvo</th>\n      <td>volvo</td>\n      <td>13415.0</td>\n    </tr>\n  </tbody>\n</table>\n</div>"
     },
     "metadata": {},
     "execution_count": 17
    }
   ],
   "source": [
    "#5\n",
    "import pandas as pd\n",
    "import io\n",
    "details = pd.read_csv('Automobile_data.csv')\n",
    "car_Manufacturers = details.groupby('company')\n",
    "\n",
    "priceDf = car_Manufacturers['company','price'].max()\n",
    "priceDf"
   ]
  },
  {
   "cell_type": "code",
   "execution_count": 16,
   "metadata": {},
   "outputs": [
    {
     "output_type": "stream",
     "name": "stderr",
     "text": [
      "<ipython-input-16-215aae7a169e>:7: FutureWarning: Indexing with multiple keys (implicitly converted to a tuple of keys) will be deprecated, use a list instead.\n  mileageDf = car_Manufacturers['company','average-mileage'].mean()\n"
     ]
    },
    {
     "output_type": "execute_result",
     "data": {
      "text/plain": [
       "               average-mileage\n",
       "company                       \n",
       "alfa-romero          20.333333\n",
       "audi                 20.000000\n",
       "bmw                  19.000000\n",
       "chevrolet            41.000000\n",
       "dodge                31.000000\n",
       "honda                26.333333\n",
       "isuzu                33.333333\n",
       "jaguar               14.333333\n",
       "mazda                28.000000\n",
       "mercedes-benz        18.000000\n",
       "mitsubishi           29.500000\n",
       "nissan               31.400000\n",
       "porsche              17.000000\n",
       "toyota               28.714286\n",
       "volkswagen           31.750000\n",
       "volvo                23.000000"
      ],
      "text/html": "<div>\n<style scoped>\n    .dataframe tbody tr th:only-of-type {\n        vertical-align: middle;\n    }\n\n    .dataframe tbody tr th {\n        vertical-align: top;\n    }\n\n    .dataframe thead th {\n        text-align: right;\n    }\n</style>\n<table border=\"1\" class=\"dataframe\">\n  <thead>\n    <tr style=\"text-align: right;\">\n      <th></th>\n      <th>average-mileage</th>\n    </tr>\n    <tr>\n      <th>company</th>\n      <th></th>\n    </tr>\n  </thead>\n  <tbody>\n    <tr>\n      <th>alfa-romero</th>\n      <td>20.333333</td>\n    </tr>\n    <tr>\n      <th>audi</th>\n      <td>20.000000</td>\n    </tr>\n    <tr>\n      <th>bmw</th>\n      <td>19.000000</td>\n    </tr>\n    <tr>\n      <th>chevrolet</th>\n      <td>41.000000</td>\n    </tr>\n    <tr>\n      <th>dodge</th>\n      <td>31.000000</td>\n    </tr>\n    <tr>\n      <th>honda</th>\n      <td>26.333333</td>\n    </tr>\n    <tr>\n      <th>isuzu</th>\n      <td>33.333333</td>\n    </tr>\n    <tr>\n      <th>jaguar</th>\n      <td>14.333333</td>\n    </tr>\n    <tr>\n      <th>mazda</th>\n      <td>28.000000</td>\n    </tr>\n    <tr>\n      <th>mercedes-benz</th>\n      <td>18.000000</td>\n    </tr>\n    <tr>\n      <th>mitsubishi</th>\n      <td>29.500000</td>\n    </tr>\n    <tr>\n      <th>nissan</th>\n      <td>31.400000</td>\n    </tr>\n    <tr>\n      <th>porsche</th>\n      <td>17.000000</td>\n    </tr>\n    <tr>\n      <th>toyota</th>\n      <td>28.714286</td>\n    </tr>\n    <tr>\n      <th>volkswagen</th>\n      <td>31.750000</td>\n    </tr>\n    <tr>\n      <th>volvo</th>\n      <td>23.000000</td>\n    </tr>\n  </tbody>\n</table>\n</div>"
     },
     "metadata": {},
     "execution_count": 16
    }
   ],
   "source": [
    "#6\n",
    "import pandas as pd\n",
    "import io\n",
    "details = pd.read_csv('Automobile_data.csv')\n",
    "car_Manufacturers = details.groupby('company')\n",
    "\n",
    "mileageDf = car_Manufacturers['company','average-mileage'].mean()\n",
    "mileageDf"
   ]
  },
  {
   "cell_type": "code",
   "execution_count": 14,
   "metadata": {},
   "outputs": [
    {
     "output_type": "execute_result",
     "data": {
      "text/plain": [
       "  Company   Price  horsepower\n",
       "0  Toyota   23845         141\n",
       "1   Honda   17995          80\n",
       "2     BMV  135925         182\n",
       "3    Audi   71400         160"
      ],
      "text/html": "<div>\n<style scoped>\n    .dataframe tbody tr th:only-of-type {\n        vertical-align: middle;\n    }\n\n    .dataframe tbody tr th {\n        vertical-align: top;\n    }\n\n    .dataframe thead th {\n        text-align: right;\n    }\n</style>\n<table border=\"1\" class=\"dataframe\">\n  <thead>\n    <tr style=\"text-align: right;\">\n      <th></th>\n      <th>Company</th>\n      <th>Price</th>\n      <th>horsepower</th>\n    </tr>\n  </thead>\n  <tbody>\n    <tr>\n      <th>0</th>\n      <td>Toyota</td>\n      <td>23845</td>\n      <td>141</td>\n    </tr>\n    <tr>\n      <th>1</th>\n      <td>Honda</td>\n      <td>17995</td>\n      <td>80</td>\n    </tr>\n    <tr>\n      <th>2</th>\n      <td>BMV</td>\n      <td>135925</td>\n      <td>182</td>\n    </tr>\n    <tr>\n      <th>3</th>\n      <td>Audi</td>\n      <td>71400</td>\n      <td>160</td>\n    </tr>\n  </tbody>\n</table>\n</div>"
     },
     "metadata": {},
     "execution_count": 14
    }
   ],
   "source": [
    "#7\n",
    "import pandas as pd\n",
    "\n",
    "Car_Price = {'Company': ['Toyota', 'Honda', 'BMV', 'Audi'], 'Price': [23845, 17995, 135925 , 71400]}\n",
    "carPriceDf = pd.DataFrame.from_dict(Car_Price)\n",
    "\n",
    "car_Horsepower = {'Company': ['Toyota', 'Honda', 'BMV', 'Audi'], 'horsepower': [141, 80, 182 , 160]}\n",
    "carsHorsepowerDf = pd.DataFrame.from_dict(car_Horsepower)\n",
    "\n",
    "carsDf = pd.merge(carPriceDf, carsHorsepowerDf, on=\"Company\")\n",
    "carsDf"
   ]
  },
  {
   "cell_type": "code",
   "execution_count": null,
   "metadata": {},
   "outputs": [],
   "source": []
  }
 ]
}